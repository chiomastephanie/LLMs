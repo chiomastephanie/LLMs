{
  "nbformat": 4,
  "nbformat_minor": 0,
  "metadata": {
    "colab": {
      "provenance": [],
      "machine_shape": "hm",
      "gpuType": "T4"
    },
    "kernelspec": {
      "name": "python3",
      "display_name": "Python 3"
    },
    "language_info": {
      "name": "python"
    },
    "accelerator": "GPU"
  },
  "cells": [
    {
      "cell_type": "code",
      "execution_count": null,
      "metadata": {
        "colab": {
          "base_uri": "https://localhost:8080/"
        },
        "id": "3DzD9_ZiZBqt",
        "outputId": "28d8bcc0-f8a9-4058-ce9e-78bbe25f3246"
      },
      "outputs": [
        {
          "output_type": "stream",
          "name": "stdout",
          "text": [
            "  Installing build dependencies ... \u001b[?25l\u001b[?25hdone\n",
            "  Getting requirements to build wheel ... \u001b[?25l\u001b[?25hdone\n",
            "  Preparing metadata (pyproject.toml) ... \u001b[?25l\u001b[?25hdone\n"
          ]
        }
      ],
      "source": [
        "%pip install -q datasets wandb scikit-learn\n",
        "%pip install -q git+https://github.com/bigscience-workshop/petals@main"
      ]
    },
    {
      "cell_type": "code",
      "source": [
        "import os\n",
        "\n",
        "import torch\n",
        "import torch.nn as nn\n",
        "import torch.nn.functional as F\n",
        "import transformers\n",
        "import wandb\n",
        "from datasets import load_dataset, load_metric\n",
        "from tqdm import tqdm\n",
        "from torch.optim import AdamW\n",
        "from torch.utils.data import DataLoader\n",
        "from transformers import LlamaTokenizer, get_scheduler, set_seed\n",
        "\n",
        "from petals import DistributedLlamaForSequenceClassification\n",
        "\n",
        "set_seed(0)"
      ],
      "metadata": {
        "id": "0lgIpNM-aKIe"
      },
      "execution_count": null,
      "outputs": []
    },
    {
      "cell_type": "code",
      "source": [
        "MODEL_NAME = \"enoch/llama-65b-hf\"\n",
        "\n",
        "# Choose a prompt-tuning mode ('ptune' or 'deep_ptune').\n",
        "# The latter fine-tunes separate prefixes for each transformer block,\n",
        "# so prompt-tuning will take more time but yield better results.\n",
        "# See this paper for details of how it works: https://arxiv.org/pdf/2110.07602.pdf\n",
        "TUNING_MODE = 'ptune'\n",
        "\n",
        "NUM_PREFIX_TOKENS = 8\n",
        "DEVICE = 'cuda'\n",
        "BATCH_SIZE = 32\n",
        "LR = 1e-2\n",
        "WEIGHT_DECAY = 0.0\n",
        "NUM_EPOCHS = 2\n",
        "SEED = 42\n",
        "MODEL_MAX_LENGTH = 30"
      ],
      "metadata": {
        "id": "6eFz5YKJaS0C"
      },
      "execution_count": null,
      "outputs": []
    },
    {
      "cell_type": "code",
      "source": [
        "tokenizer = LlamaTokenizer.from_pretrained(MODEL_NAME)\n",
        "tokenizer.padding_side = 'right'\n",
        "tokenizer.model_max_length = MODEL_MAX_LENGTH\n",
        "tokenizer.pad_token = tokenizer.unk_token\n",
        "model = DistributedLlamaForSequenceClassification.from_pretrained(\n",
        "    MODEL_NAME,\n",
        "    pre_seq_len=NUM_PREFIX_TOKENS,\n",
        "    tuning_mode=TUNING_MODE\n",
        ").float().to(DEVICE)\n",
        "model.config.pad_token_id = tokenizer.pad_token_id"
      ],
      "metadata": {
        "colab": {
          "base_uri": "https://localhost:8080/"
        },
        "id": "fqf_9pxpaS-t",
        "outputId": "1681f3b6-4e54-473b-a327-b9d7d6694bf2"
      },
      "execution_count": null,
      "outputs": [
        {
          "output_type": "stream",
          "name": "stderr",
          "text": [
            "Oct 15 13:36:06.730 [\u001b[1m\u001b[34mINFO\u001b[0m] Make sure you follow the LLaMA's terms of use: https://bit.ly/llama2-license for LLaMA 2, https://bit.ly/llama-license for LLaMA 1\n",
            "Oct 15 13:36:06.731 [\u001b[1m\u001b[34mINFO\u001b[0m] Using DHT prefix: llama-65b-hf\n",
            "Some weights of DistributedLlamaForSequenceClassification were not initialized from the model checkpoint at enoch/llama-65b-hf and are newly initialized: ['score.weight']\n",
            "You should probably TRAIN this model on a down-stream task to be able to use it for predictions and inference.\n"
          ]
        }
      ]
    },
    {
      "cell_type": "code",
      "source": [
        "import pandas as pd\n",
        "\n",
        "# Load your custom dataset\n",
        "custom_dataset = pd.read_csv('train.csv')\n",
        "\n",
        "columns_to_drop = ['following', 'followers', 'actions', 'is_retweet', 'location']\n",
        "custom_dataset = custom_dataset.drop(columns=columns_to_drop)\n",
        "\n",
        "custom_dataset.loc[custom_dataset['Type'] == 'Quality', 'Type'] = 0\n",
        "custom_dataset.loc[custom_dataset['Type'] == 'Spam', 'Type'] = 1\n",
        "\n",
        "# Assuming 'Text' and 'labels' are the column names\n",
        "text_data = custom_dataset['Tweet'].tolist()\n",
        "labels = custom_dataset['Type'].tolist()\n"
      ],
      "metadata": {
        "id": "oiJ63rwhaTHT"
      },
      "execution_count": null,
      "outputs": []
    },
    {
      "cell_type": "code",
      "source": [
        "from transformers import LlamaTokenizer\n",
        "\n",
        "tokenizer = LlamaTokenizer.from_pretrained('enoch/llama-65b-hf')\n",
        "tokenizer.pad_token = '[PAD]'\n",
        "# Tokenize and preprocess the text data\n",
        "tokenized_data = tokenizer(text_data, padding='max_length', max_length = 30, truncation=True, return_token_type_ids=False)\n"
      ],
      "metadata": {
        "id": "iwg4lBLWby5S"
      },
      "execution_count": null,
      "outputs": []
    },
    {
      "cell_type": "code",
      "source": [
        "import os\n",
        "import torch\n",
        "from torch.utils.data import Dataset, DataLoader, random_split\n",
        "from torch.nn.utils.rnn import pad_sequence\n",
        "from transformers import LlamaTokenizer, AdamW, get_scheduler, set_seed\n",
        "from tqdm import tqdm"
      ],
      "metadata": {
        "id": "hgCZBB5KTTFg"
      },
      "execution_count": null,
      "outputs": []
    },
    {
      "cell_type": "code",
      "source": [
        "from torch.nn.utils.rnn import pad_sequence\n",
        "\n",
        "class CustomDataset(Dataset):\n",
        "    def __init__(self, tokenized_data, labels):\n",
        "        self.tokenized_data = tokenized_data\n",
        "        self.labels = labels\n",
        "\n",
        "    def __len__(self):\n",
        "        return len(self.tokenized_data['input_ids'])\n",
        "\n",
        "    def __getitem__(self, idx):\n",
        "        item = {key: torch.tensor(val[idx]) for key, val in self.tokenized_data.items()}\n",
        "        item['labels'] = torch.tensor(self.labels[idx])\n",
        "        return item\n",
        "\n",
        "# Convert tokenized_data to a dictionary of lists\n",
        "tokenized_data = {\n",
        "    'input_ids': tokenized_data['input_ids'],\n",
        "    'attention_mask': tokenized_data['attention_mask']\n",
        "}\n",
        "\n",
        "# Split your dataset into training and validation\n",
        "train_size = int(0.8 * len(tokenized_data['input_ids']))\n",
        "valid_size = len(tokenized_data['input_ids']) - train_size\n",
        "train_data, valid_data = random_split(range(len(tokenized_data['input_ids'])), [train_size, valid_size])\n",
        "\n",
        "# Create data loaders for training and validation with padding\n",
        "def collate_fn(batch):\n",
        "    input_ids = pad_sequence([item['input_ids'] for item in batch], batch_first=True)\n",
        "    labels = torch.stack([item['labels'] for item in batch])\n",
        "\n",
        "    return {\n",
        "        'input_ids': input_ids,\n",
        "        'labels': labels\n",
        "    }\n",
        "\n",
        "train_dataloader = DataLoader(\n",
        "    CustomDataset({key: [val[i] for i in train_data] for key, val in tokenized_data.items()}, [labels[i] for i in train_data]),\n",
        "    shuffle=True,\n",
        "    batch_size=BATCH_SIZE,\n",
        "    collate_fn=collate_fn,\n",
        "    drop_last=True\n",
        ")\n",
        "valid_dataloader = DataLoader(\n",
        "    CustomDataset({key: [val[i] for i in valid_data] for key, val in tokenized_data.items()}, [labels[i] for i in valid_data]),\n",
        "    batch_size=BATCH_SIZE,\n",
        "    collate_fn=collate_fn\n",
        ")\n"
      ],
      "metadata": {
        "id": "tfpW4KqsbzCy"
      },
      "execution_count": null,
      "outputs": []
    },
    {
      "cell_type": "code",
      "source": [
        "for n, p in model.named_parameters():\n",
        "    if p.requires_grad:\n",
        "        print(n, p.requires_grad, p.device)"
      ],
      "metadata": {
        "colab": {
          "base_uri": "https://localhost:8080/"
        },
        "id": "sgUO6aUJdj5J",
        "outputId": "4cde5383-f4e3-4b4b-927d-4344a7a15596"
      },
      "execution_count": null,
      "outputs": [
        {
          "output_type": "stream",
          "name": "stdout",
          "text": [
            "model.prompt_embeddings.weight True cuda:0\n",
            "score.weight True cuda:0\n"
          ]
        }
      ]
    },
    {
      "cell_type": "code",
      "source": [
        "optimizer = AdamW(model.parameters(), lr=LR, weight_decay=WEIGHT_DECAY)\n"
      ],
      "metadata": {
        "colab": {
          "base_uri": "https://localhost:8080/"
        },
        "id": "XYLwaWFWd1JH",
        "outputId": "f56ce82a-2e0c-4554-85d4-ad406b20f2e3"
      },
      "execution_count": null,
      "outputs": [
        {
          "output_type": "stream",
          "name": "stderr",
          "text": [
            "/usr/local/lib/python3.10/dist-packages/transformers/optimization.py:411: FutureWarning: This implementation of AdamW is deprecated and will be removed in a future version. Use the PyTorch implementation torch.optim.AdamW instead, or set `no_deprecation_warning=True` to disable this warning\n",
            "  warnings.warn(\n"
          ]
        }
      ]
    },
    {
      "cell_type": "code",
      "source": [
        "lr_scheduler = get_scheduler(\n",
        "    name=\"linear\", optimizer=optimizer, num_warmup_steps=0, num_training_steps=len(train_dataloader) * NUM_EPOCHS\n",
        ")\n"
      ],
      "metadata": {
        "id": "AhNdiTwvd1UW"
      },
      "execution_count": null,
      "outputs": []
    },
    {
      "cell_type": "code",
      "source": [
        "total_correct = 0\n",
        "total_predictions = 0\n",
        "total_true_positives = 0\n",
        "total_predicted_positives = 0\n",
        "# Initialize gradient scaler for mixed-precision training\n",
        "scaler = torch.cuda.amp.GradScaler()\n",
        "\n",
        "\n",
        "for batch in tqdm(train_dataloader):\n",
        "    batch = {k: v.to(DEVICE) for k, v in batch.items()}\n",
        "\n",
        "    with torch.autocast(device_type=DEVICE, dtype=torch.float16):\n",
        "        outputs = model(**batch)\n",
        "    loss = outputs.loss\n",
        "    scaler.scale(loss).backward()\n",
        "\n",
        "    scaler.step(optimizer)\n",
        "    scaler.update()\n",
        "    lr_scheduler.step()\n",
        "    optimizer.zero_grad()\n",
        "\n",
        "    # Calculate accuracy and precision for this batch\n",
        "    predictions = torch.argmax(outputs.logits, dim=1)\n",
        "    labels = batch[\"labels\"]\n",
        "    correct = (predictions == labels).sum().item()\n",
        "    total_correct += correct\n",
        "    total_predictions += len(labels)\n",
        "\n",
        "    # If you want to calculate precision as well:\n",
        "    true_positives = ((predictions == 1) & (labels == 1)).sum().item()\n",
        "    predicted_positives = (predictions == 1).sum().item()\n",
        "    total_true_positives += true_positives\n",
        "    total_predicted_positives += predicted_positives\n",
        "\n",
        "\n",
        "# Calculate and print accuracy and precision for the entire training dataset\n",
        "accuracy = total_correct / total_predictions\n",
        "precision = total_true_positives / total_predicted_positives if total_predicted_positives > 0 else 0.0\n",
        "print(f\"Train Accuracy: {accuracy:.4f}\")\n",
        "print(f\"Train Precision: {precision:.4f}\")\n",
        "\n"
      ],
      "metadata": {
        "colab": {
          "base_uri": "https://localhost:8080/"
        },
        "id": "Pyb4XASFd5vR",
        "outputId": "8d0b53bc-879e-43f2-dca2-24ed5fb9c3ed"
      },
      "execution_count": null,
      "outputs": [
        {
          "output_type": "stream",
          "name": "stderr",
          "text": [
            "100%|██████████| 299/299 [7:10:28<00:00, 86.38s/it]"
          ]
        },
        {
          "output_type": "stream",
          "name": "stdout",
          "text": [
            "Train Accuracy: 0.8483\n",
            "Train Precision: 0.8415\n"
          ]
        },
        {
          "output_type": "stream",
          "name": "stderr",
          "text": [
            "\n"
          ]
        }
      ]
    },
    {
      "cell_type": "code",
      "source": [
        "total_correct = 0\n",
        "total_predictions = 0\n",
        "total_true_positives = 0\n",
        "total_predicted_positives = 0\n",
        "\n",
        "model.eval()  # Set the model to evaluation mode\n",
        "\n",
        "with torch.no_grad():\n",
        "    for batch in valid_dataloader:\n",
        "        batch = {k: v.to(DEVICE) for k, v in batch.items()}\n",
        "        outputs = model(**batch)\n",
        "        predictions = torch.argmax(outputs.logits, dim=1)\n",
        "        labels = batch[\"labels\"]\n",
        "        correct = (predictions == labels).sum().item()\n",
        "        total_correct += correct\n",
        "        total_predictions += len(labels)\n",
        "\n",
        "        # If you want to calculate precision as well:\n",
        "        true_positives = ((predictions == 1) & (labels == 1)).sum().item()\n",
        "        predicted_positives = (predictions == 1).sum().item()\n",
        "        total_true_positives += true_positives\n",
        "        total_predicted_positives += predicted_positives\n",
        "\n",
        "# Calculate and print accuracy and precision for the entire validation dataset\n",
        "accuracy = total_correct / total_predictions\n",
        "precision = total_true_positives / total_predicted_positives if total_predicted_positives > 0 else 0.0\n",
        "print(f\"Validation Accuracy: {accuracy:.4f}\")\n",
        "print(f\"Validation Precision: {precision:.4f}\")\n"
      ],
      "metadata": {
        "colab": {
          "base_uri": "https://localhost:8080/"
        },
        "id": "u99L0W7qimUe",
        "outputId": "9958939e-0a86-4bd6-e64c-58dc2bdfc0e7"
      },
      "execution_count": null,
      "outputs": [
        {
          "output_type": "stream",
          "name": "stdout",
          "text": [
            "Validation Accuracy: 0.9160\n",
            "Validation Precision: 0.9133\n"
          ]
        }
      ]
    },
    {
      "cell_type": "code",
      "source": [
        "from sklearn.metrics import confusion_matrix, ConfusionMatrixDisplay\n",
        "import numpy as np\n"
      ],
      "metadata": {
        "id": "oheqf5g3d50H"
      },
      "execution_count": null,
      "outputs": []
    },
    {
      "cell_type": "code",
      "source": [
        "true_labels = []\n",
        "predicted_labels = []\n"
      ],
      "metadata": {
        "id": "qHwxjyUcd56J"
      },
      "execution_count": null,
      "outputs": []
    },
    {
      "cell_type": "code",
      "source": [
        "# Inside your training loop\n",
        "for batch in tqdm(train_dataloader):\n",
        "    # Your training code here\n",
        "\n",
        "    # Calculate accuracy for this batch\n",
        "    predictions = torch.argmax(outputs.logits, dim=1)\n",
        "    correct = (predictions == labels).sum().item()\n",
        "    total_correct += correct\n",
        "    total_predictions += len(labels)\n",
        "\n",
        "    # Append true and predicted labels for this batch\n",
        "    true_labels.extend(labels.cpu().numpy())\n",
        "    predicted_labels.extend(predictions.cpu().numpy())\n"
      ],
      "metadata": {
        "colab": {
          "base_uri": "https://localhost:8080/"
        },
        "id": "iX34E8HT6q52",
        "outputId": "175e82aa-da00-4b56-a5c6-ee6305a56a76"
      },
      "execution_count": null,
      "outputs": [
        {
          "output_type": "stream",
          "name": "stderr",
          "text": [
            "100%|██████████| 299/299 [00:00<00:00, 767.96it/s]\n"
          ]
        }
      ]
    },
    {
      "cell_type": "code",
      "source": [
        "import matplotlib.pyplot as plt\n",
        "\n",
        "# Calculate the confusion matrix\n",
        "conf_matrix = confusion_matrix(true_labels, predicted_labels)\n",
        "\n",
        "# Display the confusion matrix\n",
        "disp = ConfusionMatrixDisplay(confusion_matrix=conf_matrix)\n",
        "disp.plot(cmap=\"Blues\")\n",
        "plt.show()\n"
      ],
      "metadata": {
        "colab": {
          "base_uri": "https://localhost:8080/",
          "height": 449
        },
        "id": "3ym90AMu6rE6",
        "outputId": "ea18416b-046e-43d3-c216-95d1b2815e6d"
      },
      "execution_count": null,
      "outputs": [
        {
          "output_type": "display_data",
          "data": {
            "text/plain": [
              "<Figure size 640x480 with 2 Axes>"
            ],
            "image/png": "[encoded data removed]"
          },
          "metadata": {}
        }
      ]
    },
    {
      "cell_type": "code",
      "source": [
        "from sklearn.metrics import classification_report\n"
      ],
      "metadata": {
        "id": "Jvrxghkq6rPG"
      },
      "execution_count": null,
      "outputs": []
    },
    {
      "cell_type": "code",
      "source": [
        "# Calculate the confusion matrix\n",
        "conf_matrix = confusion_matrix(true_labels, predicted_labels)\n",
        "\n",
        "# Calculate the classification report\n",
        "class_report = classification_report(true_labels, predicted_labels)\n",
        "\n",
        "# Display the classification report\n",
        "print(\"Classification Report:\")\n",
        "print(class_report)\n"
      ],
      "metadata": {
        "colab": {
          "base_uri": "https://localhost:8080/"
        },
        "id": "p32slx3g_L0Y",
        "outputId": "502cda24-f085-4cad-8082-412f97a0baa6"
      },
      "execution_count": null,
      "outputs": [
        {
          "output_type": "stream",
          "name": "stdout",
          "text": [
            "Classification Report:\n",
            "              precision    recall  f1-score   support\n",
            "\n",
            "           0       0.91      1.00      0.95      2990\n",
            "           1       1.00      0.94      0.97      4784\n",
            "\n",
            "    accuracy                           0.96      7774\n",
            "   macro avg       0.95      0.97      0.96      7774\n",
            "weighted avg       0.97      0.96      0.96      7774\n",
            "\n"
          ]
        }
      ]
    }
  ]
}